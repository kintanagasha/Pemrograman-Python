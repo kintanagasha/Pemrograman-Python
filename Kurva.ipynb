{
  "nbformat": 4,
  "nbformat_minor": 0,
  "metadata": {
    "colab": {
      "name": "Untitled4.ipynb",
      "provenance": [],
      "collapsed_sections": [],
      "authorship_tag": "ABX9TyPQRFOtwC6vDEaBllDfBclU",
      "include_colab_link": true
    },
    "kernelspec": {
      "name": "python3",
      "display_name": "Python 3"
    }
  },
  "cells": [
    {
      "cell_type": "markdown",
      "metadata": {
        "id": "view-in-github",
        "colab_type": "text"
      },
      "source": [
        "<a href=\"https://colab.research.google.com/github/kintanagasha/Pemrograman-Python/blob/main/Kurva.ipynb\" target=\"_parent\"><img src=\"https://colab.research.google.com/assets/colab-badge.svg\" alt=\"Open In Colab\"/></a>"
      ]
    },
    {
      "cell_type": "markdown",
      "metadata": {
        "id": "SjUVQN6dosvh"
      },
      "source": [
        "##OPTICAL SYSTEM ASSIGNMENT\r\n",
        "#####Group 6:\r\n",
        "#####Anissa Aulia Salsabillah\r\n",
        "#####Intan Inayatillah\r\n",
        "#####Kintan Putri Agasha"
      ]
    },
    {
      "cell_type": "code",
      "metadata": {
        "id": "IUL804vimR51"
      },
      "source": [
        "from math import log10, sqrt\r\n",
        "import numpy as np\r\n",
        "import matplotlib.pyplot as plt"
      ],
      "execution_count": 90,
      "outputs": []
    },
    {
      "cell_type": "code",
      "metadata": {
        "id": "fPgXh5SJmsfF"
      },
      "source": [
        "## Kabel FO G.654\r\n",
        "L=np.arange(1,22,1) #km\r\n",
        "Hspl=2 #km (setiap)\r\n",
        "disp_M=20e-12 #s/km.nm (dispersi material/ kromatik)\r\n",
        "alpha_f=0.2 #dB/km (redaman)"
      ],
      "execution_count": 91,
      "outputs": []
    },
    {
      "cell_type": "code",
      "metadata": {
        "id": "KFX73AnBnI7b"
      },
      "source": [
        "## Pengirim\r\n",
        "Ptx= 50 #mw (daya yang dikirim LED)\r\n",
        "Ptx_db= 10*log10(Ptx)\r\n",
        "spektral= 0.1 #nm (lebar spektral)\r\n",
        "t_tx= 35e-12 #s (rise time)\r\n",
        "Mod_NRZ= 0.7 #NRZ (Modulasi)\r\n",
        "Mod_RZ= 0.35 #RZ (Modulasi)\r\n",
        "Br= 2.5e9 #2.5 Gbps (Bit Rate)\r\n",
        "Tb= 1/Br #(Time Bit)"
      ],
      "execution_count": 92,
      "outputs": []
    },
    {
      "cell_type": "code",
      "metadata": {
        "id": "7gwJspsan63X"
      },
      "source": [
        "## Pengirim\r\n",
        "Sensitivitas= -27 #dBm \r\n",
        "t_rx= 35e-12 #s"
      ],
      "execution_count": 93,
      "outputs": []
    },
    {
      "cell_type": "code",
      "metadata": {
        "id": "i1ohTby4oGui"
      },
      "source": [
        "## Redaman kanal\r\n",
        "N_c=2 #(connector)\r\n",
        "alpha_c= 0.1 #0.1dB/titik\r\n",
        "N_sp= (L/Hspl)-1 #(Jumlah slice)\r\n",
        "alpha_sp= 0.1 #dB/titik (redaman/titik)\r\n",
        "Ms= 3 #dB (Margin System)"
      ],
      "execution_count": 94,
      "outputs": []
    },
    {
      "cell_type": "markdown",
      "metadata": {
        "id": "CRmoJxyMon7t"
      },
      "source": [
        "#LINK POWER BUDGET"
      ]
    },
    {
      "cell_type": "markdown",
      "metadata": {
        "id": "cln3JorbsV0r"
      },
      "source": [
        "$$\\alpha_T= 2\\alpha_c+N_{sp}\\alpha_{sp}+L\\alpha_f+M_s$$"
      ]
    },
    {
      "cell_type": "code",
      "metadata": {
        "id": "cWfxn9vvqXkH"
      },
      "source": [
        "alpha_t=N_c*alpha_c+N_sp*alpha_sp+L*alpha_f+Ms"
      ],
      "execution_count": 96,
      "outputs": []
    },
    {
      "cell_type": "code",
      "metadata": {
        "id": "xAD1wIOiqztG"
      },
      "source": [
        "Prx=Ptx_db-alpha_t"
      ],
      "execution_count": 97,
      "outputs": []
    },
    {
      "cell_type": "code",
      "metadata": {
        "colab": {
          "base_uri": "https://localhost:8080/"
        },
        "id": "_B-oubrlrAKQ",
        "outputId": "223bb33e-fe93-4dc2-9198-2d7f81cfda50"
      },
      "source": [
        "Prx"
      ],
      "execution_count": 98,
      "outputs": [
        {
          "output_type": "execute_result",
          "data": {
            "text/plain": [
              "array([13.63970004, 13.38970004, 13.13970004, 12.88970004, 12.63970004,\n",
              "       12.38970004, 12.13970004, 11.88970004, 11.63970004, 11.38970004,\n",
              "       11.13970004, 10.88970004, 10.63970004, 10.38970004, 10.13970004,\n",
              "        9.88970004,  9.63970004,  9.38970004,  9.13970004,  8.88970004,\n",
              "        8.63970004])"
            ]
          },
          "metadata": {
            "tags": []
          },
          "execution_count": 98
        }
      ]
    },
    {
      "cell_type": "code",
      "metadata": {
        "colab": {
          "base_uri": "https://localhost:8080/"
        },
        "id": "e1McepLXrDKa",
        "outputId": "349bc6ed-8fa1-4be1-f14c-0ec88caa1b85"
      },
      "source": [
        ""
      ],
      "execution_count": 80,
      "outputs": [
        {
          "output_type": "stream",
          "text": [
            "LPB, terpenuhi\n"
          ],
          "name": "stdout"
        }
      ]
    },
    {
      "cell_type": "markdown",
      "metadata": {
        "id": "sWU7sFfsrZw9"
      },
      "source": [
        "#RISE TIME BUDGET\r\n",
        "dengan menggunakan hitungan"
      ]
    },
    {
      "cell_type": "markdown",
      "metadata": {
        "id": "8krcrjsWsKSn"
      },
      "source": [
        "$$t_(sys)=\\sqrt{t_{tx}^2+t_{mat}^2+t_{mod}^2+t_{wg}^2+t_{rx}^2}. $$"
      ]
    },
    {
      "cell_type": "code",
      "metadata": {
        "id": "U5p8IVVwtPnv"
      },
      "source": [
        "t_mat=disp_M*L*spektral\r\n",
        "t_wg=0 #diabaikan\r\n",
        "t_mod=0 #SM\r\n",
        "\r\n",
        "t_sys=np.sqrt(t_tx**2+\r\n",
        "           t_mat**2+\r\n",
        "           t_mod**2+\r\n",
        "           t_wg**2\r\n",
        "           +t_rx**2)"
      ],
      "execution_count": 100,
      "outputs": []
    },
    {
      "cell_type": "code",
      "metadata": {
        "colab": {
          "base_uri": "https://localhost:8080/"
        },
        "id": "FNpiL39xtvLM",
        "outputId": "3c0d3267-4b4f-45a7-f013-3dda6d75a2d8"
      },
      "source": [
        "t_sys"
      ],
      "execution_count": 101,
      "outputs": [
        {
          "output_type": "execute_result",
          "data": {
            "text/plain": [
              "array([4.95378643e-11, 4.96588361e-11, 4.98598034e-11, 5.01398045e-11,\n",
              "       5.04975247e-11, 5.09313263e-11, 5.14392846e-11, 5.20192272e-11,\n",
              "       5.26687763e-11, 5.33853913e-11, 5.41664103e-11, 5.50090902e-11,\n",
              "       5.59106430e-11, 5.68682688e-11, 5.78791845e-11, 5.89406481e-11,\n",
              "       6.00499792e-11, 6.12045750e-11, 6.24019230e-11, 6.36396103e-11,\n",
              "       6.49153295e-11])"
            ]
          },
          "metadata": {
            "tags": []
          },
          "execution_count": 101
        }
      ]
    },
    {
      "cell_type": "code",
      "metadata": {
        "colab": {
          "base_uri": "https://localhost:8080/",
          "height": 312
        },
        "id": "NRwSHfp8t1qj",
        "outputId": "83e30ccd-d178-4836-c0c2-efa73c3def08"
      },
      "source": [
        "plt.plot(L,Prx)\r\n",
        "plt.xlabel(\"Jarak (km)\")\r\n",
        "plt.ylabel('Daya Terima (dBm)')\r\n",
        "plt.title(\"Kurva Link Power Budget\")"
      ],
      "execution_count": 103,
      "outputs": [
        {
          "output_type": "execute_result",
          "data": {
            "text/plain": [
              "Text(0.5, 1.0, 'Kurva Link Power Budget')"
            ]
          },
          "metadata": {
            "tags": []
          },
          "execution_count": 103
        },
        {
          "output_type": "display_data",
          "data": {
            "image/png": "[encoded data removed]",
            "text/plain": [
              "<Figure size 432x288 with 1 Axes>"
            ]
          },
          "metadata": {
            "tags": [],
            "needs_background": "light"
          }
        }
      ]
    },
    {
      "cell_type": "code",
      "metadata": {
        "colab": {
          "base_uri": "https://localhost:8080/",
          "height": 312
        },
        "id": "3wSpNhhkEsnu",
        "outputId": "db0a3ee9-d942-4f6a-fe07-e6035578100f"
      },
      "source": [
        "plt.plot(L,t_sys)\r\n",
        "plt.xlabel(\"Jarak (km)\")\r\n",
        "plt.ylabel('Dispersi System (s)')\r\n",
        "plt.title(\"Kurva Rise Time Budget\")"
      ],
      "execution_count": 104,
      "outputs": [
        {
          "output_type": "execute_result",
          "data": {
            "text/plain": [
              "Text(0.5, 1.0, 'Kurva Rise Time Budget')"
            ]
          },
          "metadata": {
            "tags": []
          },
          "execution_count": 104
        },
        {
          "output_type": "display_data",
          "data": {
            "image/png": "[encoded data removed]",
            "text/plain": [
              "<Figure size 432x288 with 1 Axes>"
            ]
          },
          "metadata": {
            "tags": [],
            "needs_background": "light"
          }
        }
      ]
    }
  ]
}