{
  "nbformat": 4,
  "nbformat_minor": 0,
  "metadata": {
    "colab": {
      "name": "Untitled3.ipynb",
      "provenance": [],
      "toc_visible": true,
      "authorship_tag": "ABX9TyOOX1YFO3vfO5o1iodGxpoT",
      "include_colab_link": true
    },
    "kernelspec": {
      "name": "python3",
      "display_name": "Python 3"
    }
  },
  "cells": [
    {
      "cell_type": "markdown",
      "metadata": {
        "id": "view-in-github",
        "colab_type": "text"
      },
      "source": [
        "<a href=\"https://colab.research.google.com/github/kintanagasha/Pemrograman-Python/blob/main/Assignment13.ipynb\" target=\"_parent\"><img src=\"https://colab.research.google.com/assets/colab-badge.svg\" alt=\"Open In Colab\"/></a>"
      ]
    },
    {
      "cell_type": "markdown",
      "metadata": {
        "id": "FQC_AUmtBbmk"
      },
      "source": [
        "Numpy dan Matplotlib\n",
        "--\n",
        "Python for Path Loss Simulation"
      ]
    },
    {
      "cell_type": "code",
      "metadata": {
        "id": "4dM1y-5NddYX"
      },
      "source": [
        "import numpy as np\r\n",
        "import matplotlib.pyplot as plt"
      ],
      "execution_count": 4,
      "outputs": []
    },
    {
      "cell_type": "code",
      "metadata": {
        "colab": {
          "base_uri": "https://localhost:8080/"
        },
        "id": "amuwAK0wd5q5",
        "outputId": "1e66023b-31ae-4943-be8b-18435ae0db6f"
      },
      "source": [
        "np.zeros(4)"
      ],
      "execution_count": 5,
      "outputs": [
        {
          "output_type": "execute_result",
          "data": {
            "text/plain": [
              "array([0., 0., 0., 0.])"
            ]
          },
          "metadata": {
            "tags": []
          },
          "execution_count": 5
        }
      ]
    },
    {
      "cell_type": "code",
      "metadata": {
        "colab": {
          "base_uri": "https://localhost:8080/"
        },
        "id": "l6dfFnHSfsdi",
        "outputId": "2028da00-ef72-45ec-8196-bc938e82b35e"
      },
      "source": [
        "np.ones(3)"
      ],
      "execution_count": 6,
      "outputs": [
        {
          "output_type": "execute_result",
          "data": {
            "text/plain": [
              "array([1., 1., 1.])"
            ]
          },
          "metadata": {
            "tags": []
          },
          "execution_count": 6
        }
      ]
    },
    {
      "cell_type": "code",
      "metadata": {
        "colab": {
          "base_uri": "https://localhost:8080/"
        },
        "id": "OkI1XxexfvsX",
        "outputId": "f8c4ed85-401c-4aa4-f3bc-2b82c4b79e5c"
      },
      "source": [
        "np.zeros((3,4))"
      ],
      "execution_count": 7,
      "outputs": [
        {
          "output_type": "execute_result",
          "data": {
            "text/plain": [
              "array([[0., 0., 0., 0.],\n",
              "       [0., 0., 0., 0.],\n",
              "       [0., 0., 0., 0.]])"
            ]
          },
          "metadata": {
            "tags": []
          },
          "execution_count": 7
        }
      ]
    },
    {
      "cell_type": "code",
      "metadata": {
        "colab": {
          "base_uri": "https://localhost:8080/"
        },
        "id": "D6UGoGhMfyEE",
        "outputId": "7da666fa-4cda-41d8-9062-318cf8a6ac42"
      },
      "source": [
        "np.ones((5,2))"
      ],
      "execution_count": 8,
      "outputs": [
        {
          "output_type": "execute_result",
          "data": {
            "text/plain": [
              "array([[1., 1.],\n",
              "       [1., 1.],\n",
              "       [1., 1.],\n",
              "       [1., 1.],\n",
              "       [1., 1.]])"
            ]
          },
          "metadata": {
            "tags": []
          },
          "execution_count": 8
        }
      ]
    },
    {
      "cell_type": "code",
      "metadata": {
        "colab": {
          "base_uri": "https://localhost:8080/"
        },
        "id": "LXC3T4VYf0JM",
        "outputId": "2cd483ad-1bdb-4045-aae5-5108c4c810d8"
      },
      "source": [
        "np.arange(10)"
      ],
      "execution_count": 9,
      "outputs": [
        {
          "output_type": "execute_result",
          "data": {
            "text/plain": [
              "array([0, 1, 2, 3, 4, 5, 6, 7, 8, 9])"
            ]
          },
          "metadata": {
            "tags": []
          },
          "execution_count": 9
        }
      ]
    },
    {
      "cell_type": "code",
      "metadata": {
        "colab": {
          "base_uri": "https://localhost:8080/"
        },
        "id": "F42TWavtf16B",
        "outputId": "4e9cd367-cb31-4916-8684-d442ad461a83"
      },
      "source": [
        "np.arange(2,10)"
      ],
      "execution_count": 10,
      "outputs": [
        {
          "output_type": "execute_result",
          "data": {
            "text/plain": [
              "array([2, 3, 4, 5, 6, 7, 8, 9])"
            ]
          },
          "metadata": {
            "tags": []
          },
          "execution_count": 10
        }
      ]
    },
    {
      "cell_type": "code",
      "metadata": {
        "colab": {
          "base_uri": "https://localhost:8080/"
        },
        "id": "51GPnyO6f5Id",
        "outputId": "c3befbc3-10af-4f21-e114-f620bff91138"
      },
      "source": [
        "np.arange(3,47,4)"
      ],
      "execution_count": 11,
      "outputs": [
        {
          "output_type": "execute_result",
          "data": {
            "text/plain": [
              "array([ 3,  7, 11, 15, 19, 23, 27, 31, 35, 39, 43])"
            ]
          },
          "metadata": {
            "tags": []
          },
          "execution_count": 11
        }
      ]
    },
    {
      "cell_type": "code",
      "metadata": {
        "colab": {
          "base_uri": "https://localhost:8080/"
        },
        "id": "A2Ms4MvUf7Bo",
        "outputId": "91ddfba8-387a-464a-fc22-939e128eb163"
      },
      "source": [
        "np.arange(4,5,0.1)"
      ],
      "execution_count": 12,
      "outputs": [
        {
          "output_type": "execute_result",
          "data": {
            "text/plain": [
              "array([4. , 4.1, 4.2, 4.3, 4.4, 4.5, 4.6, 4.7, 4.8, 4.9])"
            ]
          },
          "metadata": {
            "tags": []
          },
          "execution_count": 12
        }
      ]
    },
    {
      "cell_type": "code",
      "metadata": {
        "colab": {
          "base_uri": "https://localhost:8080/"
        },
        "id": "RUG2_CAUf-LH",
        "outputId": "94b0e304-c83a-4061-8e8a-2e6f1ff064dd"
      },
      "source": [
        "np.arange(2,-4,-0.5)"
      ],
      "execution_count": 13,
      "outputs": [
        {
          "output_type": "execute_result",
          "data": {
            "text/plain": [
              "array([ 2. ,  1.5,  1. ,  0.5,  0. , -0.5, -1. , -1.5, -2. , -2.5, -3. ,\n",
              "       -3.5])"
            ]
          },
          "metadata": {
            "tags": []
          },
          "execution_count": 13
        }
      ]
    },
    {
      "cell_type": "code",
      "metadata": {
        "colab": {
          "base_uri": "https://localhost:8080/"
        },
        "id": "3a25g6ssf-u5",
        "outputId": "b1fcaecf-b971-4b33-938f-44965485ee5e"
      },
      "source": [
        "np.linspace(2,10,4)"
      ],
      "execution_count": 14,
      "outputs": [
        {
          "output_type": "execute_result",
          "data": {
            "text/plain": [
              "array([ 2.        ,  4.66666667,  7.33333333, 10.        ])"
            ]
          },
          "metadata": {
            "tags": []
          },
          "execution_count": 14
        }
      ]
    },
    {
      "cell_type": "code",
      "metadata": {
        "colab": {
          "base_uri": "https://localhost:8080/"
        },
        "id": "0YGHG6TmgDJX",
        "outputId": "b324de4a-d6d3-425d-8dbb-fa4cb57b0ffd"
      },
      "source": [
        "np.linspace(2,-4,4)"
      ],
      "execution_count": 15,
      "outputs": [
        {
          "output_type": "execute_result",
          "data": {
            "text/plain": [
              "array([ 2.,  0., -2., -4.])"
            ]
          },
          "metadata": {
            "tags": []
          },
          "execution_count": 15
        }
      ]
    },
    {
      "cell_type": "code",
      "metadata": {
        "id": "KmxE32G8gFhM"
      },
      "source": [
        "e=np.arange(0,20,2)"
      ],
      "execution_count": 16,
      "outputs": []
    },
    {
      "cell_type": "code",
      "metadata": {
        "colab": {
          "base_uri": "https://localhost:8080/"
        },
        "id": "V0XRJHTjgHWh",
        "outputId": "502f03f5-077c-43db-dac3-640bc91ea382"
      },
      "source": [
        "len(e)"
      ],
      "execution_count": 17,
      "outputs": [
        {
          "output_type": "execute_result",
          "data": {
            "text/plain": [
              "10"
            ]
          },
          "metadata": {
            "tags": []
          },
          "execution_count": 17
        }
      ]
    },
    {
      "cell_type": "code",
      "metadata": {
        "colab": {
          "base_uri": "https://localhost:8080/"
        },
        "id": "MqZJTY8GgJMw",
        "outputId": "131d35d4-ac91-424a-bb24-c554674dde99"
      },
      "source": [
        "e.reshape(5,2)"
      ],
      "execution_count": 18,
      "outputs": [
        {
          "output_type": "execute_result",
          "data": {
            "text/plain": [
              "array([[ 0,  2],\n",
              "       [ 4,  6],\n",
              "       [ 8, 10],\n",
              "       [12, 14],\n",
              "       [16, 18]])"
            ]
          },
          "metadata": {
            "tags": []
          },
          "execution_count": 18
        }
      ]
    },
    {
      "cell_type": "code",
      "metadata": {
        "colab": {
          "base_uri": "https://localhost:8080/"
        },
        "id": "9muIVYlpgLY0",
        "outputId": "5ceb2621-731a-46d9-d2b8-aac3a4bb1a85"
      },
      "source": [
        "e.reshape(2,5)"
      ],
      "execution_count": 19,
      "outputs": [
        {
          "output_type": "execute_result",
          "data": {
            "text/plain": [
              "array([[ 0,  2,  4,  6,  8],\n",
              "       [10, 12, 14, 16, 18]])"
            ]
          },
          "metadata": {
            "tags": []
          },
          "execution_count": 19
        }
      ]
    },
    {
      "cell_type": "code",
      "metadata": {
        "colab": {
          "base_uri": "https://localhost:8080/"
        },
        "id": "YANag5MpgQI-",
        "outputId": "5045a96a-448a-4e1f-8032-6a25e0c0b410"
      },
      "source": [
        "print(e)"
      ],
      "execution_count": 20,
      "outputs": [
        {
          "output_type": "stream",
          "text": [
            "[ 0  2  4  6  8 10 12 14 16 18]\n"
          ],
          "name": "stdout"
        }
      ]
    },
    {
      "cell_type": "code",
      "metadata": {
        "id": "1FI-GZLigQrM"
      },
      "source": [
        "f=e.reshape(2,5)"
      ],
      "execution_count": 21,
      "outputs": []
    },
    {
      "cell_type": "code",
      "metadata": {
        "colab": {
          "base_uri": "https://localhost:8080/"
        },
        "id": "MyN2uHoYgSlB",
        "outputId": "ecdf51eb-fe89-4f50-a679-cd0286a26394"
      },
      "source": [
        "print(f)"
      ],
      "execution_count": 22,
      "outputs": [
        {
          "output_type": "stream",
          "text": [
            "[[ 0  2  4  6  8]\n",
            " [10 12 14 16 18]]\n"
          ],
          "name": "stdout"
        }
      ]
    },
    {
      "cell_type": "code",
      "metadata": {
        "colab": {
          "base_uri": "https://localhost:8080/"
        },
        "id": "1N6P967ngUcE",
        "outputId": "ec7867a8-5b35-4991-a02e-b703f8c62ad3"
      },
      "source": [
        "np.random.random((3,4))"
      ],
      "execution_count": 23,
      "outputs": [
        {
          "output_type": "execute_result",
          "data": {
            "text/plain": [
              "array([[0.68713245, 0.13668618, 0.40160576, 0.74396369],\n",
              "       [0.49171387, 0.67292623, 0.38080234, 0.26176948],\n",
              "       [0.12027403, 0.15306577, 0.32949229, 0.90028951]])"
            ]
          },
          "metadata": {
            "tags": []
          },
          "execution_count": 23
        }
      ]
    },
    {
      "cell_type": "code",
      "metadata": {
        "colab": {
          "base_uri": "https://localhost:8080/"
        },
        "id": "KzaTip00gXO2",
        "outputId": "4fd6492c-94bf-4e32-cd26-cdf549c36470"
      },
      "source": [
        "np.random.randint(1,20,10)"
      ],
      "execution_count": 24,
      "outputs": [
        {
          "output_type": "execute_result",
          "data": {
            "text/plain": [
              "array([ 6,  2, 11, 18, 12, 13,  1,  6, 15,  5])"
            ]
          },
          "metadata": {
            "tags": []
          },
          "execution_count": 24
        }
      ]
    },
    {
      "cell_type": "code",
      "metadata": {
        "colab": {
          "base_uri": "https://localhost:8080/"
        },
        "id": "Wu4xFnTMg3su",
        "outputId": "5324a0b6-e2f8-4930-91fc-d6fa32feefe8"
      },
      "source": [
        "np.random.randn(3)"
      ],
      "execution_count": 25,
      "outputs": [
        {
          "output_type": "execute_result",
          "data": {
            "text/plain": [
              "array([ 1.06259611,  2.35895558, -0.41380969])"
            ]
          },
          "metadata": {
            "tags": []
          },
          "execution_count": 25
        }
      ]
    },
    {
      "cell_type": "code",
      "metadata": {
        "colab": {
          "base_uri": "https://localhost:8080/"
        },
        "id": "U60dKH12hK7N",
        "outputId": "9dac1d60-d691-4e2d-da73-863797c9e16e"
      },
      "source": [
        "from google.colab import drive\n",
        "drive.mount('/content/drive')"
      ],
      "execution_count": 26,
      "outputs": [
        {
          "output_type": "stream",
          "text": [
            "Mounted at /content/drive\n"
          ],
          "name": "stdout"
        }
      ]
    },
    {
      "cell_type": "code",
      "metadata": {
        "id": "EeHVRGkWhnY0"
      },
      "source": [
        "x=np.linspace(1,10,20)\r\n",
        "y=x**2\r\n",
        "y2=x**3"
      ],
      "execution_count": 27,
      "outputs": []
    },
    {
      "cell_type": "code",
      "metadata": {
        "colab": {
          "base_uri": "https://localhost:8080/"
        },
        "id": "R-T2A2oDh4SX",
        "outputId": "7e36cbfa-bf8b-4e93-917b-7df129d43714"
      },
      "source": [
        "print(x)"
      ],
      "execution_count": 28,
      "outputs": [
        {
          "output_type": "stream",
          "text": [
            "[ 1.          1.47368421  1.94736842  2.42105263  2.89473684  3.36842105\n",
            "  3.84210526  4.31578947  4.78947368  5.26315789  5.73684211  6.21052632\n",
            "  6.68421053  7.15789474  7.63157895  8.10526316  8.57894737  9.05263158\n",
            "  9.52631579 10.        ]\n"
          ],
          "name": "stdout"
        }
      ]
    },
    {
      "cell_type": "code",
      "metadata": {
        "colab": {
          "base_uri": "https://localhost:8080/",
          "height": 295
        },
        "id": "giVqwx9Yh6ft",
        "outputId": "9ab8e9bc-3ac1-4537-f1df-b9ebeef1d547"
      },
      "source": [
        "plt.figure()\r\n",
        "plt.plot(x,y,'m-^', label='Y1')\r\n",
        "plt.plot(x,y2,'c-o', label='Y2')\r\n",
        "plt.legend()\r\n",
        "plt.title('Contoh kurva Python')\r\n",
        "plt.xlabel('X')\r\n",
        "plt.ylabel('Y')\r\n",
        "plt.show()"
      ],
      "execution_count": 29,
      "outputs": [
        {
          "output_type": "display_data",
          "data": {
            "image/png": "[encoded data removed]",
            "text/plain": [
              "<Figure size 432x288 with 1 Axes>"
            ]
          },
          "metadata": {
            "tags": [],
            "needs_background": "light"
          }
        }
      ]
    },
    {
      "cell_type": "code",
      "metadata": {
        "id": "WyK1cyBth9XT"
      },
      "source": [
        "import numpy as np\r\n",
        "import matplotlib.pyplot as plt"
      ],
      "execution_count": 30,
      "outputs": []
    },
    {
      "cell_type": "code",
      "metadata": {
        "id": "_Z8J7bU4iFfd"
      },
      "source": [
        "def cos(frek,tipe,ht,hr,d):\r\n",
        "  #frek = frekuensi (MHz)\r\n",
        "  #tipe = urban, suburban, open\r\n",
        "  #ht = tinggi tower (meter)\r\n",
        "  #hr = tinggi user (meter)\r\n",
        "  #d = jarak (meter)\r\n",
        "    if frek in range(150,1501):\r\n",
        "        Ca=69.55\r\n",
        "        Cb=26.16\r\n",
        "    elif frek in range(1501,2001):\r\n",
        "        Ca=46.3\r\n",
        "        Cb=33.9\r\n",
        "    \r\n",
        "    if tipe=='urban' :\r\n",
        "        Cm=0\r\n",
        "    elif tipe=='suburban' :\r\n",
        "        Cm= -2*((np.log10((frek/28)**2))-5.4)\r\n",
        "    elif tipe=='open' :\r\n",
        "        Cm= -4.78*(np.log10(frek))+18.33*(np.log10(frek))-40.94\r\n",
        "    else :\r\n",
        "        Cm='tipe salah'\r\n",
        "    \r\n",
        "    ahr = (1.1*np.log10(frek)-0.7)*hr-(1.56*np.log10(frek)-1.8)\r\n",
        "    Lp = Ca+(Cb*np.log10(frek))-(13.83*np.log(ht))-ahr+((44.9-6.55*np.log10(ht))*np.log10(d))-Cm\r\n",
        "    \r\n",
        "    return Lp"
      ],
      "execution_count": 31,
      "outputs": []
    },
    {
      "cell_type": "code",
      "metadata": {
        "id": "VpptCXteiKeX"
      },
      "source": [
        "tower=80 #m\r\n",
        "user=1.5 #m\r\n",
        "dmin=200 #m\r\n",
        "dmax=700 #m\r\n",
        "N=200 #titik\r\n",
        "d=np.random.randint(dmin,dmax,N)"
      ],
      "execution_count": 32,
      "outputs": []
    },
    {
      "cell_type": "code",
      "metadata": {
        "id": "CS1tLePeiLRY"
      },
      "source": [
        "def Urban():\r\n",
        "  f=1800 \r\n",
        "  loc='urban'\r\n",
        "  LpUrban=cos(f,loc,tower,user,d)\r\n",
        "  d_sort=d[np.argsort(d)]\r\n",
        "  Urban_sort=LpUrban[np.argsort(d)]\r\n",
        "  return d_sort,Urban_sort"
      ],
      "execution_count": 33,
      "outputs": []
    },
    {
      "cell_type": "code",
      "metadata": {
        "id": "MGZz9YjPiNfE"
      },
      "source": [
        "def Open():\r\n",
        "  f=1800 \r\n",
        "  loc='open'\r\n",
        "  LpUrban=cos(f,loc,tower,user,d)\r\n",
        "  d_sort=d[np.argsort(d)]\r\n",
        "  Urban_sort=LpUrban[np.argsort(d)]\r\n",
        "  return d_sort,Urban_sort\r\n"
      ],
      "execution_count": 34,
      "outputs": []
    },
    {
      "cell_type": "code",
      "metadata": {
        "id": "sCeCzbXLiWmW"
      },
      "source": [
        "def Suburban():\r\n",
        "  f=1800 \r\n",
        "  loc='suburban'\r\n",
        "  LpUrban=cos(f,loc,tower,user,d)\r\n",
        "  d_sort=d[np.argsort(d)]\r\n",
        "  Urban_sort=LpUrban[np.argsort(d)]\r\n",
        "  return d_sort,Urban_sort"
      ],
      "execution_count": 35,
      "outputs": []
    },
    {
      "cell_type": "code",
      "metadata": {
        "id": "aMzqXzQMia5T"
      },
      "source": [
        "def frekuensix():\r\n",
        "  f=700 \r\n",
        "  loc='urban'\r\n",
        "  LpUrban=cos(f,loc,tower,user,d)\r\n",
        "  d_sort=d[np.argsort(d)]\r\n",
        "  Urban_sort=LpUrban[np.argsort(d)]\r\n",
        "  return d_sort,Urban_sort"
      ],
      "execution_count": 36,
      "outputs": []
    },
    {
      "cell_type": "code",
      "metadata": {
        "id": "73Gc6A87ic11"
      },
      "source": [
        "def frekuensiy():\r\n",
        "  f=900 \r\n",
        "  loc='urban'\r\n",
        "  LpUrban=cos(f,loc,tower,user,d)\r\n",
        "  d_sort=d[np.argsort(d)]\r\n",
        "  Urban_sort=LpUrban[np.argsort(d)]\r\n",
        "  return d_sort,Urban_sort"
      ],
      "execution_count": 37,
      "outputs": []
    },
    {
      "cell_type": "code",
      "metadata": {
        "id": "LHUMQBRcigJZ"
      },
      "source": [
        "def frekuensiz():\r\n",
        "  f=1800 \r\n",
        "  loc='urban'\r\n",
        "  LpUrban=cos(f,loc,tower,user,d)\r\n",
        "  d_sort=d[np.argsort(d)]\r\n",
        "  Urban_sort=LpUrban[np.argsort(d)]\r\n",
        "  return d_sort,Urban_sort"
      ],
      "execution_count": 38,
      "outputs": []
    },
    {
      "cell_type": "code",
      "metadata": {
        "id": "_QeVedzxijwL"
      },
      "source": [
        "x1,y1 = Urban()\r\n",
        "x2,y2 = Open()\r\n",
        "x3,y3 = Suburban()\r\n",
        "\r\n",
        "a1,b1 = frekuensix()\r\n",
        "a2,b2 = frekuensiy()\r\n",
        "a3,b3 = frekuensiz()"
      ],
      "execution_count": 39,
      "outputs": []
    },
    {
      "cell_type": "code",
      "metadata": {
        "colab": {
          "base_uri": "https://localhost:8080/",
          "height": 541
        },
        "id": "2JyuWQE-illH",
        "outputId": "02ccd629-edeb-4c08-f711-549aad2c7e8c"
      },
      "source": [
        "plt.figure()\r\n",
        "plt.plot(x1,y1,'c', label='Urban')\r\n",
        "plt.plot(x2,y2,'m', label='Open')\r\n",
        "plt.plot(x3,y3,'b', label='Sub Urban')\r\n",
        "plt.legend()\r\n",
        "plt.xlabel('Jarak (m)')\r\n",
        "plt.ylabel('Path Loss (dB)')\r\n",
        "plt.show()\r\n",
        "\r\n",
        "plt.figure()\r\n",
        "plt.plot(a1,b1,'c', label='700 Mhz')\r\n",
        "plt.plot(a2,b2,'m', label='900 Mhz')\r\n",
        "plt.plot(a3,b3,'b', label='1800 Mhz')\r\n",
        "plt.legend()\r\n",
        "plt.xlabel('Jarak (m)')\r\n",
        "plt.ylabel('Path Loss (dB)')\r\n",
        "plt.show()"
      ],
      "execution_count": 40,
      "outputs": [
        {
          "output_type": "display_data",
          "data": {
            "image/png": "[encoded data removed]",
            "text/plain": [
              "<Figure size 432x288 with 1 Axes>"
            ]
          },
          "metadata": {
            "tags": [],
            "needs_background": "light"
          }
        },
        {
          "output_type": "display_data",
          "data": {
            "image/png": "[encoded data removed]",
            "text/plain": [
              "<Figure size 432x288 with 1 Axes>"
            ]
          },
          "metadata": {
            "tags": [],
            "needs_background": "light"
          }
        }
      ]
    }
  ]
}