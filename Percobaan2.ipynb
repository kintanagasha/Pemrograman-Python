{
  "nbformat": 4,
  "nbformat_minor": 0,
  "metadata": {
    "colab": {
      "name": "Untitled4.ipynb",
      "provenance": [],
      "collapsed_sections": [],
      "authorship_tag": "ABX9TyNAp87uPScZV4I3DxKnj72k",
      "include_colab_link": true
    },
    "kernelspec": {
      "name": "python3",
      "display_name": "Python 3"
    }
  },
  "cells": [
    {
      "cell_type": "markdown",
      "metadata": {
        "id": "view-in-github",
        "colab_type": "text"
      },
      "source": [
        "<a href=\"https://colab.research.google.com/github/kintanagasha/Pemrograman-Python/blob/main/Percobaan2.ipynb\" target=\"_parent\"><img src=\"https://colab.research.google.com/assets/colab-badge.svg\" alt=\"Open In Colab\"/></a>"
      ]
    },
    {
      "cell_type": "markdown",
      "metadata": {
        "id": "SjUVQN6dosvh"
      },
      "source": [
        "##OPTICAL SYSTEM ASSIGNMENT\r\n",
        "#####Group 6:\r\n",
        "#####Anissa Aulia Salsabillah\r\n",
        "#####Intan Inayatillah\r\n",
        "#####Kintan Putri Agasha"
      ]
    },
    {
      "cell_type": "code",
      "metadata": {
        "id": "IUL804vimR51"
      },
      "source": [
        "from math import log10, sqrt"
      ],
      "execution_count": 60,
      "outputs": []
    },
    {
      "cell_type": "code",
      "metadata": {
        "id": "fPgXh5SJmsfF"
      },
      "source": [
        "## Kabel FO G.654\r\n",
        "L=24 #km\r\n",
        "Hspl=2 #km (setiap)\r\n",
        "disp_M=20e-12 #s/km.nm (dispersi material/ kromatik)\r\n",
        "alpha_f=0.2 #dB/km (redaman)"
      ],
      "execution_count": 61,
      "outputs": []
    },
    {
      "cell_type": "code",
      "metadata": {
        "id": "KFX73AnBnI7b"
      },
      "source": [
        "## Pengirim\r\n",
        "Ptx= 50 #mw (daya yang dikirim LED)\r\n",
        "Ptx_db= 10*log10(Ptx)\r\n",
        "spektral= 0.1 #nm (lebar spektral)\r\n",
        "t_tx= 35e-12 #s (rise time)\r\n",
        "Mod_NRZ= 0.7 #NRZ (Modulasi)\r\n",
        "Mod_RZ= 0.35 #RZ (Modulasi)\r\n",
        "Br= 2.5e9 #2.5 Gbps (Bit Rate)\r\n",
        "Tb= 1/Br #(Time Bit)"
      ],
      "execution_count": 62,
      "outputs": []
    },
    {
      "cell_type": "code",
      "metadata": {
        "id": "7gwJspsan63X"
      },
      "source": [
        "## Pengirim\r\n",
        "Sensitivitas= -27 #dBm \r\n",
        "t_rx= 35e-12 #s"
      ],
      "execution_count": 63,
      "outputs": []
    },
    {
      "cell_type": "code",
      "metadata": {
        "id": "i1ohTby4oGui"
      },
      "source": [
        "## Redaman kanal\r\n",
        "N_c=2 #(connector)\r\n",
        "alpha_c= 0.1 #0.1dB/titik\r\n",
        "N_sp= (L/Hspl)-1 #(Jumlah slice)\r\n",
        "alpha_sp= 0.1 #dB/titik (redaman/titik)\r\n",
        "Ms= 3 #dB (Margin System)"
      ],
      "execution_count": 64,
      "outputs": []
    },
    {
      "cell_type": "markdown",
      "metadata": {
        "id": "CRmoJxyMon7t"
      },
      "source": [
        "#LINK POWER BUDGET"
      ]
    },
    {
      "cell_type": "markdown",
      "metadata": {
        "id": "cln3JorbsV0r"
      },
      "source": [
        "$$\\alpha_T= 2\\alpha_c+N_{sp}\\alpha_{sp}+L\\alpha_f+M_s$$"
      ]
    },
    {
      "cell_type": "code",
      "metadata": {
        "colab": {
          "base_uri": "https://localhost:8080/"
        },
        "id": "cWfxn9vvqXkH",
        "outputId": "e92aac89-e95d-40e6-b012-97f10dbf49c9"
      },
      "source": [
        "alpha_t=N_c*alpha_c+N_sp*alpha_sp+L*alpha_f+Ms\r\n",
        "print(\"Redaman Kabel\", alpha_t, \"dB\")"
      ],
      "execution_count": 65,
      "outputs": [
        {
          "output_type": "stream",
          "text": [
            "Redaman Kabel 9.100000000000001 dB\n"
          ],
          "name": "stdout"
        }
      ]
    },
    {
      "cell_type": "code",
      "metadata": {
        "id": "xAD1wIOiqztG"
      },
      "source": [
        "Prx=Ptx_db-alpha_t"
      ],
      "execution_count": 66,
      "outputs": []
    },
    {
      "cell_type": "code",
      "metadata": {
        "colab": {
          "base_uri": "https://localhost:8080/"
        },
        "id": "_B-oubrlrAKQ",
        "outputId": "00a26c74-b4fa-44e3-fc90-e19cea481b14"
      },
      "source": [
        "Prx"
      ],
      "execution_count": 67,
      "outputs": [
        {
          "output_type": "execute_result",
          "data": {
            "text/plain": [
              "7.889700043360186"
            ]
          },
          "metadata": {
            "tags": []
          },
          "execution_count": 67
        }
      ]
    },
    {
      "cell_type": "code",
      "metadata": {
        "colab": {
          "base_uri": "https://localhost:8080/"
        },
        "id": "e1McepLXrDKa",
        "outputId": "f94de7d4-665d-4b9a-a3ea-e4a679b61383"
      },
      "source": [
        "if Prx > Sensitivitas:\r\n",
        "  print (\"LPB, terpenuhi\")\r\n",
        "else:\r\n",
        "  print(\"Hitung Ulang!\")"
      ],
      "execution_count": 68,
      "outputs": [
        {
          "output_type": "stream",
          "text": [
            "LPB, terpenuhi\n"
          ],
          "name": "stdout"
        }
      ]
    },
    {
      "cell_type": "markdown",
      "metadata": {
        "id": "sWU7sFfsrZw9"
      },
      "source": [
        "#RISE TIME BUDGET\r\n",
        "dengan menggunakan hitungan"
      ]
    },
    {
      "cell_type": "markdown",
      "metadata": {
        "id": "8krcrjsWsKSn"
      },
      "source": [
        "$$t_(sys)=\\sqrt{t_{tx}^2+t_{mat}^2+t_{mod}^2+t_{wg}^2+t_{rx}^2}. $$"
      ]
    },
    {
      "cell_type": "code",
      "metadata": {
        "id": "U5p8IVVwtPnv"
      },
      "source": [
        "t_mat=disp_M*L*spektral\r\n",
        "t_wg=0 #diabaikan\r\n",
        "t_mod=0 #SM\r\n",
        "\r\n",
        "t_sys=sqrt(t_tx**2+\r\n",
        "           t_mat**2+\r\n",
        "           t_mod**2+\r\n",
        "           t_wg**2\r\n",
        "           +t_rx**2)"
      ],
      "execution_count": 69,
      "outputs": []
    },
    {
      "cell_type": "code",
      "metadata": {
        "colab": {
          "base_uri": "https://localhost:8080/"
        },
        "id": "FNpiL39xtvLM",
        "outputId": "4326b9fd-3344-4a63-bda5-a6ba5c390947"
      },
      "source": [
        "t_sys"
      ],
      "execution_count": 70,
      "outputs": [
        {
          "output_type": "execute_result",
          "data": {
            "text/plain": [
              "6.89492567037528e-11"
            ]
          },
          "metadata": {
            "tags": []
          },
          "execution_count": 70
        }
      ]
    },
    {
      "cell_type": "code",
      "metadata": {
        "colab": {
          "base_uri": "https://localhost:8080/"
        },
        "id": "NRwSHfp8t1qj",
        "outputId": "814b27a2-c5a5-4eb2-f703-7d8311dda53b"
      },
      "source": [
        "if (Tb*Mod_NRZ > t_sys) & (Tb*Mod_RZ > t_sys):\r\n",
        "  print (\"RTB, terpenuhi\")\r\n",
        "elif Tb*Mod_NRZ > t_sys:\r\n",
        "  print (\"RTB untuk NRZ, terpenuhi\")\r\n",
        "elif Tb*Mod_RZ > t_sys:\r\n",
        "  print (\"RTB untuk RZ, terpenuhi\")\r\n",
        "else:\r\n",
        "    print (\"Hitung Ulang!!!\")\r\n"
      ],
      "execution_count": 71,
      "outputs": [
        {
          "output_type": "stream",
          "text": [
            "RTB, terpenuhi\n"
          ],
          "name": "stdout"
        }
      ]
    }
  ]
}